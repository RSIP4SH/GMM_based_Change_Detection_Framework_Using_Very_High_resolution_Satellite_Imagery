{
 "cells": [
  {
   "cell_type": "code",
   "execution_count": 1,
   "metadata": {
    "collapsed": false
   },
   "outputs": [
    {
     "name": "stdout",
     "output_type": "stream",
     "text": [
      "[ 0  1  2  3  4  5  6  7  8  9 10 11] [12 11 10  9  8  7  6  5  4  3  2  1]\n"
     ]
    }
   ],
   "source": [
    "import numpy as np\n",
    "x = np.array(range(12))\n",
    "y = np.array(range(12,0,-1))\n",
    "print x, y"
   ]
  },
  {
   "cell_type": "code",
   "execution_count": 2,
   "metadata": {
    "collapsed": false
   },
   "outputs": [
    {
     "name": "stdout",
     "output_type": "stream",
     "text": [
      "[[ 0  1  2  3]\n",
      " [ 4  5  6  7]\n",
      " [ 8  9 10 11]] \n",
      "[[12 11 10  9]\n",
      " [ 8  7  6  5]\n",
      " [ 4  3  2  1]]\n"
     ]
    }
   ],
   "source": [
    "x = x.reshape((3,4))\n",
    "y = y.reshape((3,4))\n",
    "print x, '\\n' ,y"
   ]
  },
  {
   "cell_type": "code",
   "execution_count": 3,
   "metadata": {
    "collapsed": false
   },
   "outputs": [
    {
     "name": "stdout",
     "output_type": "stream",
     "text": [
      "[ 4.  5.  6.  7.] \n",
      "[ 8.  7.  6.  5.]\n"
     ]
    }
   ],
   "source": [
    "x_mean = np.mean(x, axis=0)\n",
    "y_mean = np.mean(y, axis=0)\n",
    "print x_mean, '\\n', y_mean"
   ]
  },
  {
   "cell_type": "code",
   "execution_count": 4,
   "metadata": {
    "collapsed": false
   },
   "outputs": [
    {
     "name": "stdout",
     "output_type": "stream",
     "text": [
      "[[ 16.  16.  16.  16.]\n",
      " [ 16.  16.  16.  16.]\n",
      " [ 16.  16.  16.  16.]\n",
      " [ 16.  16.  16.  16.]]\n"
     ]
    }
   ],
   "source": [
    "data_cov = np.cov(x, rowvar=0)\n",
    "print data_cov"
   ]
  },
  {
   "cell_type": "code",
   "execution_count": 5,
   "metadata": {
    "collapsed": false
   },
   "outputs": [
    {
     "name": "stdout",
     "output_type": "stream",
     "text": [
      "[ 0.34895476  0.28262495  0.36597387  0.50654126  0.55747283] \n",
      "[ 0.56417711  0.41493629  0.57171321  0.31268382  0.46352508]\n"
     ]
    }
   ],
   "source": [
    "x = np.array(np.random.rand(10, 5))\n",
    "y = np.array(np.random.rand(10, 5))\n",
    "x_mean = np.mean(x, axis=0)\n",
    "y_mean = np.mean(y, axis=0)\n",
    "print x_mean, '\\n', y_mean"
   ]
  },
  {
   "cell_type": "code",
   "execution_count": 6,
   "metadata": {
    "collapsed": false
   },
   "outputs": [
    {
     "name": "stdout",
     "output_type": "stream",
     "text": [
      "[[ 0.10704537 -0.04443033 -0.00919889 -0.00818643 -0.03047084]\n",
      " [-0.04443033  0.03624635  0.0078423   0.01357903  0.02986834]\n",
      " [-0.00919889  0.0078423   0.05306966 -0.02906532  0.04037349]\n",
      " [-0.00818643  0.01357903 -0.02906532  0.06467092 -0.00510046]\n",
      " [-0.03047084  0.02986834  0.04037349 -0.00510046  0.07007395]]\n"
     ]
    }
   ],
   "source": [
    "x_cov = np.cov(x, rowvar=False)\n",
    "print x_cov"
   ]
  },
  {
   "cell_type": "code",
   "execution_count": 7,
   "metadata": {
    "collapsed": false
   },
   "outputs": [
    {
     "name": "stdout",
     "output_type": "stream",
     "text": [
      "[[ 0.09606363  0.0551682  -0.0038834  -0.00091861 -0.03146434]\n",
      " [ 0.0551682   0.09679363 -0.04377968  0.00383059 -0.04284669]\n",
      " [-0.0038834  -0.04377968  0.07197347  0.020604   -0.00838057]\n",
      " [-0.00091861  0.00383059  0.020604    0.0818756   0.00197919]\n",
      " [-0.03146434 -0.04284669 -0.00838057  0.00197919  0.12114617]]\n"
     ]
    }
   ],
   "source": [
    "y_cov = np.cov(y, rowvar=False)\n",
    "print y_cov"
   ]
  },
  {
   "cell_type": "code",
   "execution_count": 8,
   "metadata": {
    "collapsed": false
   },
   "outputs": [
    {
     "name": "stdout",
     "output_type": "stream",
     "text": [
      "3.66737596693\n"
     ]
    }
   ],
   "source": [
    "from scipy.stats import multivariate_normal\n",
    "rv = multivariate_normal(x_mean, x_cov)\n",
    "p = np.array([0.48788206,  0.39793033,  0.5058051,   0.62318351,  0.55130692])\n",
    "print rv.pdf(p)"
   ]
  },
  {
   "cell_type": "code",
   "execution_count": 10,
   "metadata": {
    "collapsed": false
   },
   "outputs": [
    {
     "data": {
      "text/plain": [
       "8.2402988929403179e-08"
      ]
     },
     "execution_count": 10,
     "metadata": {},
     "output_type": "execute_result"
    }
   ],
   "source": [
    "np.linalg.det(rv.cov)"
   ]
  },
  {
   "cell_type": "code",
   "execution_count": null,
   "metadata": {
    "collapsed": false
   },
   "outputs": [],
   "source": []
  },
  {
   "cell_type": "code",
   "execution_count": null,
   "metadata": {
    "collapsed": true
   },
   "outputs": [],
   "source": []
  }
 ],
 "metadata": {
  "kernelspec": {
   "display_name": "Python 2",
   "language": "python",
   "name": "python2"
  },
  "language_info": {
   "codemirror_mode": {
    "name": "ipython",
    "version": 2
   },
   "file_extension": ".py",
   "mimetype": "text/x-python",
   "name": "python",
   "nbconvert_exporter": "python",
   "pygments_lexer": "ipython2",
   "version": "2.7.13"
  }
 },
 "nbformat": 4,
 "nbformat_minor": 0
}
