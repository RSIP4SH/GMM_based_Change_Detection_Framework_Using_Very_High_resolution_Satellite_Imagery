{
 "cells": [
  {
   "cell_type": "code",
   "execution_count": 1,
   "metadata": {
    "collapsed": false
   },
   "outputs": [
    {
     "name": "stdout",
     "output_type": "stream",
     "text": [
      "[ 0  1  2  3  4  5  6  7  8  9 10 11] [12 11 10  9  8  7  6  5  4  3  2  1]\n"
     ]
    }
   ],
   "source": [
    "import numpy as np\n",
    "x = np.array(range(12))\n",
    "y = np.array(range(12,0,-1))\n",
    "print x, y"
   ]
  },
  {
   "cell_type": "code",
   "execution_count": 2,
   "metadata": {
    "collapsed": false
   },
   "outputs": [
    {
     "name": "stdout",
     "output_type": "stream",
     "text": [
      "[[ 0  1  2  3]\n",
      " [ 4  5  6  7]\n",
      " [ 8  9 10 11]] \n",
      "[[12 11 10  9]\n",
      " [ 8  7  6  5]\n",
      " [ 4  3  2  1]]\n"
     ]
    }
   ],
   "source": [
    "x = x.reshape((3,4))\n",
    "y = y.reshape((3,4))\n",
    "print x, '\\n' ,y"
   ]
  },
  {
   "cell_type": "code",
   "execution_count": 3,
   "metadata": {
    "collapsed": false
   },
   "outputs": [
    {
     "name": "stdout",
     "output_type": "stream",
     "text": [
      "[ 4.  5.  6.  7.] \n",
      "[ 8.  7.  6.  5.]\n"
     ]
    }
   ],
   "source": [
    "x_mean = np.mean(x, axis=0)\n",
    "y_mean = np.mean(y, axis=0)\n",
    "print x_mean, '\\n', y_mean"
   ]
  },
  {
   "cell_type": "code",
   "execution_count": 4,
   "metadata": {
    "collapsed": false
   },
   "outputs": [
    {
     "name": "stdout",
     "output_type": "stream",
     "text": [
      "[[ 16.  16.  16.  16.]\n",
      " [ 16.  16.  16.  16.]\n",
      " [ 16.  16.  16.  16.]\n",
      " [ 16.  16.  16.  16.]]\n"
     ]
    }
   ],
   "source": [
    "data_cov = np.cov(x, rowvar=0)\n",
    "print data_cov"
   ]
  },
  {
   "cell_type": "code",
   "execution_count": 5,
   "metadata": {
    "collapsed": false
   },
   "outputs": [
    {
     "name": "stdout",
     "output_type": "stream",
     "text": [
      "[ 0.35685464  0.64331962  0.46256683  0.52036706  0.45116808] \n",
      "[ 0.45903387  0.45177925  0.46534634  0.48243338  0.4849524 ]\n"
     ]
    }
   ],
   "source": [
    "x = np.array(np.random.rand(10, 5))\n",
    "y = np.array(np.random.rand(10, 5))\n",
    "x_mean = np.mean(x, axis=0)\n",
    "y_mean = np.mean(y, axis=0)\n",
    "print x_mean, '\\n', y_mean"
   ]
  },
  {
   "cell_type": "code",
   "execution_count": 8,
   "metadata": {
    "collapsed": false
   },
   "outputs": [
    {
     "name": "stdout",
     "output_type": "stream",
     "text": [
      "[[ 0.11316779 -0.02427928 -0.01895536 -0.05784158  0.03546793]\n",
      " [-0.02427928  0.09182419  0.02219334 -0.00910465 -0.02388879]\n",
      " [-0.01895536  0.02219334  0.06305766  0.04121858  0.00405627]\n",
      " [-0.05784158 -0.00910465  0.04121858  0.11368475  0.03053032]\n",
      " [ 0.03546793 -0.02388879  0.00405627  0.03053032  0.08845405]]\n"
     ]
    }
   ],
   "source": [
    "data_cov = np.cov(x, rowvar=False)\n",
    "print data_cov"
   ]
  },
  {
   "cell_type": "code",
   "execution_count": null,
   "metadata": {
    "collapsed": true
   },
   "outputs": [],
   "source": []
  }
 ],
 "metadata": {
  "kernelspec": {
   "display_name": "Python 2",
   "language": "python",
   "name": "python2"
  },
  "language_info": {
   "codemirror_mode": {
    "name": "ipython",
    "version": 2
   },
   "file_extension": ".py",
   "mimetype": "text/x-python",
   "name": "python",
   "nbconvert_exporter": "python",
   "pygments_lexer": "ipython2",
   "version": "2.7.13"
  }
 },
 "nbformat": 4,
 "nbformat_minor": 0
}
