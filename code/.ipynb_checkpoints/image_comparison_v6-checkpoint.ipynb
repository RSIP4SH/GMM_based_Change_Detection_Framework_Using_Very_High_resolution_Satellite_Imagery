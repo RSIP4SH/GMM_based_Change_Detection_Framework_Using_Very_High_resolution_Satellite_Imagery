{
 "cells": [
  {
   "cell_type": "markdown",
   "metadata": {},
   "source": [
    "Update: based on V3, experiment with apply range scale, include pixel coordinates and reorganize code to generate refined graphs"
   ]
  },
  {
   "cell_type": "code",
   "execution_count": null,
   "metadata": {
    "collapsed": false
   },
   "outputs": [],
   "source": [
    "import numpy as np\n",
    "# read in image data as n-dimension array\n",
    "import os\n",
    "imgdir = '../dataset'\n",
    "imgfile1 = os.path.join(imgdir, 'k02-05m-cropped.png')\n",
    "imgfile2 = os.path.join(imgdir, 'k12-05m-cropped.png')\n",
    "from skimage import io\n",
    "img1 = io.imread(imgfile1)\n",
    "img2 = io.imread(imgfile2)\n",
    "# rearrange pixel color channels\n",
    "img1 = np.reshape(img1, img1.shape, order='F')\n",
    "img2 = np.reshape(img2, img2.shape, order='F')\n",
    "# check image dimension\n",
    "print img1.shape"
   ]
  },
  {
   "cell_type": "code",
   "execution_count": null,
   "metadata": {
    "collapsed": true
   },
   "outputs": [],
   "source": [
    "# paraemeter setting to divide image into square grids\n",
    "grid_step = 280 # unit in pixel, should be divisible to the image size"
   ]
  },
  {
   "cell_type": "code",
   "execution_count": null,
   "metadata": {
    "collapsed": false
   },
   "outputs": [],
   "source": [
    "# show data\n",
    "import matplotlib.pyplot as plt\n",
    "%matplotlib inline\n",
    "fig = plt.figure(figsize=(16,35))\n",
    "plt.subplot(121).imshow(img1)\n",
    "plt.subplot(122).imshow(img2)"
   ]
  },
  {
   "cell_type": "code",
   "execution_count": null,
   "metadata": {
    "collapsed": false
   },
   "outputs": [],
   "source": [
    "# show image in red color channel\n",
    "fig, axes = plt.subplots(figsize=(16,35), nrows=1, ncols=2)\n",
    "axes[0].imshow(img1[:,:,0], cmap=plt.cm.Reds)\n",
    "im = axes[1].imshow(img2[:,:,0], cmap=plt.cm.Reds)\n",
    "fig.subplots_adjust(right=0.8)\n",
    "cbar_ax = fig.add_axes([0.95, 0.44, 0.01, 0.14])\n",
    "fig.colorbar(im, cax=cbar_ax)"
   ]
  },
  {
   "cell_type": "code",
   "execution_count": null,
   "metadata": {
    "collapsed": false
   },
   "outputs": [],
   "source": [
    "# show image in green color channel\n",
    "fig, axes = plt.subplots(figsize=(16,35), nrows=1, ncols=2)\n",
    "axes[0].imshow(img1[:,:,1], cmap=plt.cm.Greens)\n",
    "im = axes[1].imshow(img2[:,:,1], cmap=plt.cm.Greens)\n",
    "fig.subplots_adjust(right=0.8)\n",
    "cbar_ax = fig.add_axes([0.95, 0.44, 0.01, 0.14])\n",
    "fig.colorbar(im, cax=cbar_ax)"
   ]
  },
  {
   "cell_type": "code",
   "execution_count": null,
   "metadata": {
    "collapsed": false
   },
   "outputs": [],
   "source": [
    "# show image in blue color channel\n",
    "fig, axes = plt.subplots(figsize=(16,35), nrows=1, ncols=2)\n",
    "axes[0].imshow(img1[:,:,2], cmap=plt.cm.Blues)\n",
    "im = axes[1].imshow(img2[:,:,2], cmap=plt.cm.Blues)\n",
    "fig.subplots_adjust(right=0.8)\n",
    "cbar_ax = fig.add_axes([0.95, 0.44, 0.01, 0.14])\n",
    "fig.colorbar(im, cax=cbar_ax)"
   ]
  },
  {
   "cell_type": "code",
   "execution_count": null,
   "metadata": {
    "collapsed": true
   },
   "outputs": [],
   "source": [
    "# scale inside each grid\n",
    "# @param: 2D RGB image as ndarray\n",
    "# @param: gamma to adjust brightnesss\n",
    "# @return: image with RGB channels\n",
    "def apply_RGB_scale(image, gamma=1.0):\n",
    "    nrows, ncols, ndims = image.shape[0], image.shape[1], image.shape[2]\n",
    "    apr = 1e-10 # in case divied by zero\n",
    "    image_new = np.ndarray(shape=(nrows, ncols, ndims), dtype=float)\n",
    "    image_new[:,:,0:3] = image[:,:,0:3]\n",
    "    for i in range(3):\n",
    "        minC, maxC = np.min(image_new[:,:,i]), np.max(image_new[:,:,i])\n",
    "#         print minC, maxC\n",
    "#         image_new[:,:,i] = (image_new[:,:,i] - minC) / (maxC - minC + apr) * 255\n",
    "#     image_new[:,:,0:3] = np.clip(gamma*image_new[:,:,0:3], 0, 255) # upper limit value for RGB color\n",
    "    return image_new"
   ]
  },
  {
   "cell_type": "code",
   "execution_count": null,
   "metadata": {
    "collapsed": false
   },
   "outputs": [],
   "source": [
    "# apply scale and plot the additional dimension\n",
    "# img1 = apply_RGB_scale(img1)\n",
    "# img2 = apply_RGB_scale(img2)\n",
    "fig = plt.figure(figsize=(16,35))\n",
    "plt.subplot(121).imshow(img1[:,:,0:3])\n",
    "plt.subplot(122).imshow(img2[:,:,0:3])\n",
    "# check image dimension\n",
    "print img1.shape"
   ]
  },
  {
   "cell_type": "code",
   "execution_count": null,
   "metadata": {
    "collapsed": true
   },
   "outputs": [],
   "source": [
    "# divide image arrays into grids based on preset step size\n",
    "# @param: 2D RGB image as ndarray\n",
    "# @param: grid_step_size should be divisible to image size\n",
    "# @return: list of lists of divided ndarray (image grids)\n",
    "def divide_image_into_grids_scaled(image, grid_step_size=50):\n",
    "    assert image.shape[0]%grid_step==0\n",
    "    assert image.shape[1]%grid_step==0\n",
    "    image_grids = list()\n",
    "    grid_rows = image.shape[0]/grid_step # number of grids along rows\n",
    "    grid_cols = image.shape[1]/grid_step # number of grids along columns\n",
    "    apr = 1e-10 # in case of zero division\n",
    "    for r in range(grid_rows):\n",
    "        row_image_grids = list()\n",
    "        for c in range(grid_cols):\n",
    "            tmp = image[r*grid_step:(r+1)*grid_step-1, c*grid_step:(c+1)*grid_step-1, :]\n",
    "#             minC, maxC = np.min(tmp[:,:,:3]), np.max(tmp[:,:,:3])\n",
    "#             for d in range(3):\n",
    "#                 minC, maxC = np.min(tmp[:,:,d]), np.max(tmp[:,:,d])\n",
    "#                 tmp[:,:,d] = (tmp[:,:,d] - minC)/(maxC - minC+apr)\n",
    "            row_image_grids.append(tmp)\n",
    "        image_grids.append(row_image_grids)\n",
    "    return image_grids"
   ]
  },
  {
   "cell_type": "code",
   "execution_count": null,
   "metadata": {
    "collapsed": false
   },
   "outputs": [],
   "source": [
    "image_grids_1 = divide_image_into_grids_scaled(img1, grid_step)\n",
    "image_grids_2 = divide_image_into_grids_scaled(img2, grid_step)"
   ]
  },
  {
   "cell_type": "code",
   "execution_count": null,
   "metadata": {
    "collapsed": false
   },
   "outputs": [],
   "source": [
    "# plot example grids in RGB channels in image1\n",
    "fig = plt.figure(figsize=(16,20))\n",
    "plt.subplot(141).imshow(image_grids_1[0][0][:,:,:3])\n",
    "plt.subplot(142).imshow(image_grids_1[0][0][:,:,0], cmap=plt.cm.Reds)\n",
    "plt.subplot(143).imshow(image_grids_1[0][0][:,:,1], cmap=plt.cm.Greens)\n",
    "plt.subplot(144).imshow(image_grids_1[0][0][:,:,2], cmap=plt.cm.Blues)"
   ]
  },
  {
   "cell_type": "code",
   "execution_count": null,
   "metadata": {
    "collapsed": false
   },
   "outputs": [],
   "source": [
    "# plot example grids in RGB channels in image2\n",
    "fig = plt.figure(figsize=(16,20))\n",
    "plt.subplot(141).imshow(image_grids_2[0][0][:,:,:3])\n",
    "plt.subplot(142).imshow(image_grids_2[0][0][:,:,0], cmap=plt.cm.Reds)\n",
    "plt.subplot(143).imshow(image_grids_2[0][0][:,:,1], cmap=plt.cm.Greens)\n",
    "plt.subplot(144).imshow(image_grids_2[0][0][:,:,2], cmap=plt.cm.Blues)"
   ]
  },
  {
   "cell_type": "code",
   "execution_count": null,
   "metadata": {
    "collapsed": false
   },
   "outputs": [],
   "source": [
    "# plot example grids\n",
    "fig = plt.figure(figsize=(16,50))\n",
    "plt.subplot(161).imshow(image_grids_1[0][0][:,:,:3])\n",
    "plt.subplot(162).imshow(image_grids_2[0][0][:,:,:3])\n",
    "plt.subplot(163).imshow(image_grids_1[0][2][:,:,:3])\n",
    "plt.subplot(164).imshow(image_grids_2[0][2][:,:,:3])\n",
    "plt.subplot(165).imshow(image_grids_1[0][10][:,:,:3])\n",
    "plt.subplot(166).imshow(image_grids_2[0][10][:,:,:3])"
   ]
  },
  {
   "cell_type": "code",
   "execution_count": null,
   "metadata": {
    "collapsed": false
   },
   "outputs": [],
   "source": [
    "# plot single color channel\n",
    "fig = plt.figure(figsize=(16,50))\n",
    "plt.subplot(161).imshow(image_grids_1[0][0][:,:,0], cmap=plt.cm.Reds) # R\n",
    "plt.subplot(162).imshow(image_grids_2[0][0][:,:,0], cmap=plt.cm.Reds)\n",
    "plt.subplot(163).imshow(image_grids_1[0][2][:,:,1], cmap=plt.cm.Greens) # G\n",
    "plt.subplot(164).imshow(image_grids_2[0][2][:,:,1], cmap=plt.cm.Greens)\n",
    "plt.subplot(165).imshow(image_grids_1[0][10][:,:,2], cmap=plt.cm.Blues) # B\n",
    "plt.subplot(166).imshow(image_grids_2[0][10][:,:,2], cmap=plt.cm.Blues)"
   ]
  },
  {
   "cell_type": "code",
   "execution_count": null,
   "metadata": {
    "collapsed": true
   },
   "outputs": [],
   "source": [
    "# approximate an image by a Gaussian distribution\n",
    "# @param image matrix\n",
    "# @return mean and variance matrix for this gaussian distribution\n",
    "def image_to_gaussian_distribution(image):\n",
    "    # convert image pixels into list of vectors\n",
    "    data = list() # convert each pixel info into a vector\n",
    "    rows, cols, channels = image.shape\n",
    "    for r in range(rows):\n",
    "        vecs = image[r]\n",
    "        data.extend(vecs)\n",
    "    # fit data into a gaussian distribution\n",
    "    data_mean = np.mean(data, axis=0) # mean vector of gaussian distribution\n",
    "    data_cov = np.cov(data, rowvar=False) # covariance matrix of gaussian distribution\n",
    "    return (data_mean, data_cov)\n",
    "\n",
    "\n",
    "# approximate an image by a Gaussian distribution including pixel coordinates\n",
    "# @param image matrix\n",
    "# @return mean and variance matrix for this gaussian distribution\n",
    "def image_to_gaussian_distribution_withxy(image):\n",
    "    # convert image pixels into list of vectors\n",
    "    data = list() # convert each pixel info into a vector\n",
    "    rows, cols, channels = image.shape\n",
    "    for r in range(rows):\n",
    "        index = zip([r]*cols, range(cols))\n",
    "        img_info = zip(index, image[r])\n",
    "        vecs = map(lambda x: np.concatenate((np.array(x[0]), x[1]),axis=0) , img_info)\n",
    "        data.extend(vecs)\n",
    "    # fit data into a gaussian distribution\n",
    "    data_mean = np.mean(data, axis=0) # mean vector of gaussian distribution\n",
    "    data_cov = np.cov(data, rowvar=False) # covariance matrix of gaussian distribution\n",
    "    return (data_mean, data_cov)"
   ]
  },
  {
   "cell_type": "code",
   "execution_count": null,
   "metadata": {
    "collapsed": false
   },
   "outputs": [],
   "source": [
    "# convert each grid into a gaussian distribution, save gaussian parameters into a list\n",
    "num_of_rows = len(image_grids_1)\n",
    "num_of_cols = len(image_grids_1[0])\n",
    "image_gaussians_1 = list()\n",
    "for r in range(num_of_rows):\n",
    "    image_gaussians_1.append(map(image_to_gaussian_distribution_withxy, image_grids_1[r]))\n",
    "image_gaussians_2 = list()\n",
    "for r in range(num_of_rows):\n",
    "    image_gaussians_2.append(map(image_to_gaussian_distribution_withxy, image_grids_2[r]))\n",
    "# print dimension of grids of image gaussian distributions\n",
    "print len(image_gaussians_1), len(image_gaussians_1[0])"
   ]
  },
  {
   "cell_type": "code",
   "execution_count": null,
   "metadata": {
    "collapsed": false
   },
   "outputs": [],
   "source": [
    "# compute the Kullback–Leibler(KL) divergence between two Gaussian distributions\n",
    "# @param mean and covariance matrix of two gaussian distributions\n",
    "# @return KL divergence (asymmetric)\n",
    "def gaussian_KL_divergence(gsd_1, gsd_2):\n",
    "    gp_mean, gp_cov = gsd_1[0], gsd_1[1] # mean and covariance of gaussian distr\n",
    "    gq_mean, gq_cov = gsd_2[0], gsd_2[1]\n",
    "    term1 = np.log(np.linalg.det(gp_cov) / np.linalg.det(gq_cov))\n",
    "    mat_inv_q = np.linalg.inv(gq_cov)\n",
    "    term2 = np.trace(np.matmul(mat_inv_q, gp_cov))\n",
    "    diff_mean_pq = gp_mean-gq_mean\n",
    "    term3 = np.matmul(diff_mean_pq, np.matmul(mat_inv_q, np.matrix.transpose(diff_mean_pq)))\n",
    "    KL_div = (term1 + term2 + term3) / 2\n",
    "    return KL_div\n",
    "\n",
    "def symmetric_KL_divergence(gsd_1, gsd_2):\n",
    "    return (gaussian_KL_divergence(gsd_1, gsd_2)+gaussian_KL_divergence(gsd_2, gsd_1)) / 2\n",
    "\n",
    "import scipy.stats as st\n",
    "def gaussian_KL_divergence_orthogonal(gsd_p, gsd_q):\n",
    "    apr = 1e-10 # in case of zero division\n",
    "    KL_vec = list()\n",
    "    for d in range(3):\n",
    "        p_mean, p_var = gsd_p[0][d], gsd_p[1][d]\n",
    "        q_mean, q_var = gsd_q[0][d], gsd_q[1][d]\n",
    "        KL = 0.5*np.log(q_var/(p_var+apr)) + (p_var + (p_mean-q_mean)**2)/(2*q_var+apr) - 0.5\n",
    "        KL_vec.append(KL)\n",
    "    return np.linalg.norm(np.array(KL_vec, dtype=float))\n",
    "\n",
    "def symmetric_KL_divergence_orthogonal(gsd_1, gsd_2):\n",
    "    return (gaussian_KL_divergence_orthogonal(gsd_1, gsd_2)+gaussian_KL_divergence_orthogonal(gsd_2, gsd_1))/2"
   ]
  },
  {
   "cell_type": "code",
   "execution_count": null,
   "metadata": {
    "collapsed": false
   },
   "outputs": [],
   "source": [
    "KL_div_map = list()\n",
    "for r in range(num_of_rows):\n",
    "    KL_div_map.append(map(symmetric_KL_divergence, image_gaussians_1[r], image_gaussians_2[r]))\n",
    "print len(KL_div_map), len(KL_div_map[0])"
   ]
  },
  {
   "cell_type": "code",
   "execution_count": null,
   "metadata": {
    "collapsed": false
   },
   "outputs": [],
   "source": [
    "fig = plt.figure(figsize=(10,10))\n",
    "im = plt.imshow(KL_div_map, cmap=plt.get_cmap('brg'), vmin=0, vmax=50, interpolation='none')\n",
    "plt.title(\"KL divergence map\")\n",
    "cbar_ax = fig.add_axes([0.95, 0.15, 0.02, 0.65])\n",
    "fig.colorbar(im, cax=cbar_ax)\n",
    "plt.show()"
   ]
  },
  {
   "cell_type": "code",
   "execution_count": null,
   "metadata": {
    "collapsed": false
   },
   "outputs": [],
   "source": [
    "# plot KL map overlaid on satellite map for comparison of changes\n",
    "fig = plt.figure(figsize=(16,35))\n",
    "extent = 0, img2.shape[0], 0, img2.shape[1]\n",
    "plt.title(\"KL divergence map for change detection\")\n",
    "plt.subplot(121).imshow(img1, extent=extent)\n",
    "plt.subplot(121).imshow(KL_div_map, cmap=plt.get_cmap('brg'), vmin=0, vmax=50, interpolation='none', alpha=0.3, extent=extent)\n",
    "\n",
    "plt.subplot(122).imshow(img2, extent=extent)\n",
    "plt.subplot(122).imshow(KL_div_map, cmap=plt.get_cmap('brg'), vmin=0, vmax=50, interpolation='none', alpha=0.3, extent=extent)\n",
    "plt.show()"
   ]
  },
  {
   "cell_type": "code",
   "execution_count": null,
   "metadata": {
    "collapsed": false
   },
   "outputs": [],
   "source": [
    "# Build GMM model-based clustering model by subset of KL divergence map\n",
    "KL_values = np.vstack(np.ravel(KL_div_map)) # flatten the 2D matrix to 1D array, then transpose into column\n",
    "sample_ratio = 0.8 # subset ratio in full data set\n",
    "import random\n",
    "KL_samples = random.sample(KL_values, int(sample_ratio*len(KL_values))) # select subset\n",
    "K = 4 # number of gaussian mixtures\n",
    "# from sklearn import mixture\n",
    "# gmm = mixture.GaussianMixture(n_components=K)\n",
    "from GaussianMixtureModel import GaussianMixtureModel\n",
    "gmm = GaussianMixtureModel(n_components=K)\n",
    "gmm.fit(KL_samples) # training GMM model"
   ]
  },
  {
   "cell_type": "code",
   "execution_count": null,
   "metadata": {
    "collapsed": false
   },
   "outputs": [],
   "source": [
    "# Apply GMM clustering model to categorize the changes on KL divergence map\n",
    "KL_change_map = list()\n",
    "for KL_div_row in KL_div_map:\n",
    "    KL_change_map.append(gmm.predict(np.vstack(KL_div_row)))\n",
    "print len(KL_change_map), len(KL_change_map[0])"
   ]
  },
  {
   "cell_type": "code",
   "execution_count": null,
   "metadata": {
    "collapsed": false
   },
   "outputs": [],
   "source": [
    "# Plot the change map to detect changes\n",
    "fig = plt.figure(figsize=(10, 10))\n",
    "ax = plt.subplot(111)\n",
    "from matplotlib import colors\n",
    "cmap = colors.LinearSegmentedColormap.from_list('segmented', ['#3366cc','#33cc33', '#ffcc00', '#ff0000'], N=K)\n",
    "cmap1 = colors.LinearSegmentedColormap.from_list(11, colors =['MediumPurple', 'SpringGreen', 'Yellow', 'OrangeRed'],N=K)\n",
    "cmap0 = plt.cm.Set1\n",
    "cc = cmap0\n",
    "# extent = 0, img1.shape[0], 0, img1.shape[1]\n",
    "# plt.imshow(img1, extent=extent)\n",
    "plt.imshow(KL_change_map, cmap=cc, interpolation='none', alpha=1.0)\n",
    "plt.show()"
   ]
  },
  {
   "cell_type": "code",
   "execution_count": null,
   "metadata": {
    "collapsed": false
   },
   "outputs": [],
   "source": [
    "# overlaid GMM change cluster map on satellite maps for comparison and evaluation\n",
    "fig = plt.figure(figsize=(16,35))\n",
    "from matplotlib import colors\n",
    "cmap1 = colors.LinearSegmentedColormap.from_list(11, colors =['MediumPurple', 'SpringGreen', 'Yellow', 'OrangeRed'],N=K)\n",
    "extent = 0, img2.shape[0], 0, img2.shape[1]\n",
    "plt.subplot(121).imshow(img1, extent=extent)\n",
    "plt.subplot(121).imshow(KL_change_map, cmap=cc, interpolation='none', alpha=0.3, extent=extent)\n",
    "plt.subplot(122).imshow(img2, extent=extent)\n",
    "plt.subplot(122).imshow(KL_change_map, cmap=cc, interpolation='none', alpha=0.3, extent=extent)\n",
    "plt.show()"
   ]
  },
  {
   "cell_type": "code",
   "execution_count": null,
   "metadata": {
    "collapsed": false
   },
   "outputs": [],
   "source": []
  }
 ],
 "metadata": {
  "kernelspec": {
   "display_name": "Python 2",
   "language": "python",
   "name": "python2"
  },
  "language_info": {
   "codemirror_mode": {
    "name": "ipython",
    "version": 2
   },
   "file_extension": ".py",
   "mimetype": "text/x-python",
   "name": "python",
   "nbconvert_exporter": "python",
   "pygments_lexer": "ipython2",
   "version": "2.7.13"
  }
 },
 "nbformat": 4,
 "nbformat_minor": 0
}
